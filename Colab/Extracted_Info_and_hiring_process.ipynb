{
  "cells": [
    {
      "cell_type": "markdown",
      "id": "25904311",
      "metadata": {
        "id": "25904311"
      },
      "source": [
        "# Extracting Text from Resumes\n",
        "The first step in resume parsing is to extract the text from resumes in various formats, such as PDF or Word documents. We’ll be using the pdfminer.six library to extract text from PDF resumes. Here’s a function that takes a PDF file path as input and returns the extracted text:"
      ]
    },
    {
      "cell_type": "code",
      "execution_count": null,
      "id": "53e123ef",
      "metadata": {
        "colab": {
          "base_uri": "https://localhost:8080/",
          "height": 140
        },
        "id": "53e123ef",
        "outputId": "fe687d39-9aa5-4888-c01b-9ab78af3fd6d"
      },
      "outputs": [
        {
          "output_type": "execute_result",
          "data": {
            "text/plain": [
              "'Name: John Doe \\n\\nAddress: 123 Main Street, Cityville, State, Zip Code \\n\\nPhone: (123) 456-7890 \\n\\nEmail: johndoe@email.com \\n\\nObjective: \\n\\nDedicated and results-oriented software engineer with a passion for developing innovative solutions. \\nSeeking a challenging position in a dynamic company where I can utilize my technical skills to contribute \\nto project success and personal growth. \\n\\nSummary of Qualifications: \\n\\n- Bachelor of Science in Computer Science from XYZ University \\n\\n- Proficient in multiple programming languages including Python, Java, and C++ \\n\\n- Extensive experience with web development frameworks such as Django and React \\n\\n- Strong understanding of software development methodologies, including Agile and Scrum \\n\\n- Excellent problem-solving and analytical skills \\n\\n- Effective communication and teamwork abilities \\n\\nEducation: \\n\\n- Bachelor of Science in Computer Science \\n\\n  XYZ University, Cityville, State \\n\\n  GPA: 3.9/4.0 \\n\\nTechnical Skills: \\n\\n- Programming Languages: Python, Java, C++ \\n\\n- Web Development: Django, Flask, React, HTML, CSS, JavaScript \\n\\n- Database Management: MySQL, PostgreSQL, MongoDB \\n\\n- Version Control: Git, SVN \\n\\n- Operating Systems: Linux, Windows \\n\\n \\n \\n \\n \\n\\x0cExperience: \\n\\nSoftware Engineer | ABC Tech Solutions \\n\\n- Developed and maintained backend services for a large-scale e-commerce platform using Python and \\nDjango \\n\\n- Designed and implemented RESTful APIs to facilitate communication between different components of \\nthe system \\n\\n- Collaborated with frontend developers to integrate user interface components with backend \\nfunctionality \\n\\n- Participated in code reviews and provided constructive feedback to team members \\n\\nIntern | XYZ Software Development \\n\\n- Assisted senior developers in building and testing software applications \\n\\n- Conducted research on emerging technologies and presented findings to the development team \\n\\n- Participated in Agile scrum meetings and contributed to sprint planning and retrospective sessions \\n\\nProjects: \\n\\n- Online Bookstore Application: Developed a web-based bookstore application using Django and React, \\nallowing users to browse, search, and purchase books online. \\n\\n- Personal Blog: Created a personal blog website using Flask and MongoDB, enabling users to create, \\nedit, and delete blog posts. \\n\\nCertifications: \\n\\n- AWS Certified Solutions Architect – Associate \\n\\n- Cisco Certified Network Associate (CCNA) \\n\\nLanguages: \\n\\n- English (Native) \\n\\n- Spanish (Proficient) \\n\\n \\n \\n \\n \\n \\n\\x0c'"
            ],
            "application/vnd.google.colaboratory.intrinsic+json": {
              "type": "string"
            }
          },
          "metadata": {},
          "execution_count": 3
        }
      ],
      "source": [
        "import re\n",
        "from pdfminer.high_level import extract_text\n",
        "\n",
        "def extract_text_from_pdf(pdf_path):\n",
        "    return extract_text(pdf_path)\n",
        "\n",
        "\n",
        "resume_path = \"info resume.pdf\"\n",
        "text = extract_text_from_pdf(resume_path)\n",
        "text"
      ]
    },
    {
      "cell_type": "code",
      "source": [
        "!pip install pdfminer.six\n"
      ],
      "metadata": {
        "colab": {
          "base_uri": "https://localhost:8080/"
        },
        "id": "NSQDF92H8k9Q",
        "outputId": "c7c563bb-cd6e-4610-8067-1075ed3168d9"
      },
      "id": "NSQDF92H8k9Q",
      "execution_count": null,
      "outputs": [
        {
          "output_type": "stream",
          "name": "stdout",
          "text": [
            "Collecting pdfminer.six\n",
            "  Downloading pdfminer_six-20250416-py3-none-any.whl.metadata (4.1 kB)\n",
            "Requirement already satisfied: charset-normalizer>=2.0.0 in /usr/local/lib/python3.11/dist-packages (from pdfminer.six) (3.4.1)\n",
            "Requirement already satisfied: cryptography>=36.0.0 in /usr/local/lib/python3.11/dist-packages (from pdfminer.six) (43.0.3)\n",
            "Requirement already satisfied: cffi>=1.12 in /usr/local/lib/python3.11/dist-packages (from cryptography>=36.0.0->pdfminer.six) (1.17.1)\n",
            "Requirement already satisfied: pycparser in /usr/local/lib/python3.11/dist-packages (from cffi>=1.12->cryptography>=36.0.0->pdfminer.six) (2.22)\n",
            "Downloading pdfminer_six-20250416-py3-none-any.whl (5.6 MB)\n",
            "\u001b[?25l   \u001b[90m━━━━━━━━━━━━━━━━━━━━━━━━━━━━━━━━━━━━━━━━\u001b[0m \u001b[32m0.0/5.6 MB\u001b[0m \u001b[31m?\u001b[0m eta \u001b[36m-:--:--\u001b[0m\r\u001b[2K   \u001b[91m━━━━━━━━━━━━━━━━━━━━━━━━━━━━━━━━━━━━━━━\u001b[0m\u001b[90m╺\u001b[0m \u001b[32m5.5/5.6 MB\u001b[0m \u001b[31m165.5 MB/s\u001b[0m eta \u001b[36m0:00:01\u001b[0m\r\u001b[2K   \u001b[90m━━━━━━━━━━━━━━━━━━━━━━━━━━━━━━━━━━━━━━━━\u001b[0m \u001b[32m5.6/5.6 MB\u001b[0m \u001b[31m92.1 MB/s\u001b[0m eta \u001b[36m0:00:00\u001b[0m\n",
            "\u001b[?25hInstalling collected packages: pdfminer.six\n",
            "Successfully installed pdfminer.six-20250416\n"
          ]
        }
      ]
    },
    {
      "cell_type": "markdown",
      "id": "3869cab2",
      "metadata": {
        "id": "3869cab2"
      },
      "source": [
        "# Extracting Contact Information\n",
        "\n",
        "\n",
        "Contact information, including phone numbers, email addresses, and physical addresses, is crucial for reaching out to potential candidates. Extracting this information accurately is an essential part of resume parsing. We can use regular expressions to match patterns and extract contact information.\n",
        "\n",
        "# Function to Extract\n",
        "\n",
        "\n",
        "Let’s define a function to extract a contact number from the resume text:"
      ]
    },
    {
      "cell_type": "code",
      "execution_count": 5,
      "id": "4795cd19",
      "metadata": {
        "colab": {
          "base_uri": "https://localhost:8080/",
          "height": 36
        },
        "id": "4795cd19",
        "outputId": "4ea7bdc8-917e-44c1-9014-ae671ab1942b"
      },
      "outputs": [
        {
          "output_type": "execute_result",
          "data": {
            "text/plain": [
              "'123) 456-7890'"
            ],
            "application/vnd.google.colaboratory.intrinsic+json": {
              "type": "string"
            }
          },
          "metadata": {},
          "execution_count": 5
        }
      ],
      "source": [
        "import re\n",
        "\n",
        "def extract_contact_number_from_resume(text):\n",
        "    contact_number = None\n",
        "\n",
        "    # Use regex pattern to find a potential contact number\n",
        "    pattern = r\"\\b(?:\\+?\\d{1,3}[-.\\s]?)?\\(?\\d{3}\\)?[-.\\s]?\\d{3}[-.\\s]?\\d{4}\\b\"\n",
        "    match = re.search(pattern, text)\n",
        "    if match:\n",
        "        contact_number = match.group()\n",
        "\n",
        "    return contact_number\n",
        "\n",
        "phone = extract_contact_number_from_resume(text)\n",
        "phone"
      ]
    },
    {
      "cell_type": "markdown",
      "id": "73ce6ac7",
      "metadata": {
        "id": "73ce6ac7"
      },
      "source": [
        "# Extracting Email Address\n",
        "In addition to the contact number, extracting the email address is vital for communication with candidates. We can again use regular expressions to match patterns and extract the email address. Here’s a function to extract the email address from the resume text:"
      ]
    },
    {
      "cell_type": "code",
      "execution_count": 6,
      "id": "1bc1e09c",
      "metadata": {
        "id": "1bc1e09c",
        "outputId": "b73f9161-717f-4635-e78b-612219648ed8",
        "colab": {
          "base_uri": "https://localhost:8080/",
          "height": 36
        }
      },
      "outputs": [
        {
          "output_type": "execute_result",
          "data": {
            "text/plain": [
              "'johndoe@email.com'"
            ],
            "application/vnd.google.colaboratory.intrinsic+json": {
              "type": "string"
            }
          },
          "metadata": {},
          "execution_count": 6
        }
      ],
      "source": [
        "import re\n",
        "\n",
        "def extract_email_from_resume(text):\n",
        "    email = None\n",
        "\n",
        "    # Use regex pattern to find a potential email address\n",
        "    pattern = r\"\\b[A-Za-z0-9._%+-]+@[A-Za-z0-9.-]+\\.[A-Za-z]{2,}\\b\"\n",
        "    match = re.search(pattern, text)\n",
        "    if match:\n",
        "        email = match.group()\n",
        "\n",
        "    return email\n",
        "\n",
        "email = extract_email_from_resume(text)\n",
        "email"
      ]
    },
    {
      "cell_type": "markdown",
      "id": "a74a16b8",
      "metadata": {
        "id": "a74a16b8"
      },
      "source": [
        "# Extracting Skills\n",
        "Identifying the skills mentioned in a resume is crucial for determining the candidate’s qualifications. We can create a list of relevant skills and match them against the resume text to extract the mentioned skills. Let’s define a function to extract skills from the resume text:"
      ]
    },
    {
      "cell_type": "code",
      "execution_count": 7,
      "id": "dbb25dda",
      "metadata": {
        "id": "dbb25dda",
        "outputId": "a15a90b9-fd57-4578-87b8-9a95fc036fde",
        "colab": {
          "base_uri": "https://localhost:8080/"
        }
      },
      "outputs": [
        {
          "output_type": "stream",
          "name": "stdout",
          "text": [
            "Skills: ['Python', 'Communication', 'Java', 'JavaScript', 'HTML', 'CSS', 'React', 'MongoDB', 'Git', 'Research', 'Linux', 'Scrum', 'Software Development', 'Web Development', 'E-commerce', 'RESTful APIs', 'Django', 'Flask', 'MySQL', 'PostgreSQL', 'MongoDB']\n"
          ]
        }
      ],
      "source": [
        "import re\n",
        "\n",
        "def extract_skills_from_resume(text, skills_list):\n",
        "    skills = []\n",
        "\n",
        "    for skill in skills_list:\n",
        "        pattern = r\"\\b{}\\b\".format(re.escape(skill))\n",
        "        match = re.search(pattern, text, re.IGNORECASE)\n",
        "        if match:\n",
        "            skills.append(skill)\n",
        "\n",
        "    return skills\n",
        "\n",
        "\n",
        "# List of predefined skills\n",
        "skills_list = [\n",
        "    'Python', 'Data Analysis', 'Machine Learning', 'Communication', 'Project Management', 'Deep Learning', 'SQL', 'Tableau',\n",
        "    'Java', 'C++', 'JavaScript', 'HTML', 'CSS', 'React', 'Angular', 'Node.js', 'MongoDB', 'Express.js', 'Git',\n",
        "    'Research', 'Statistics', 'Quantitative Analysis', 'Qualitative Analysis', 'SPSS', 'R', 'Data Visualization', 'Matplotlib',\n",
        "    'Seaborn', 'Plotly', 'Pandas', 'Numpy', 'Scikit-learn', 'TensorFlow', 'Keras', 'PyTorch', 'NLTK', 'Text Mining',\n",
        "    'Natural Language Processing', 'Computer Vision', 'Image Processing', 'OCR', 'Speech Recognition', 'Recommendation Systems',\n",
        "    'Collaborative Filtering', 'Content-Based Filtering', 'Reinforcement Learning', 'Neural Networks', 'Convolutional Neural Networks',\n",
        "    'Recurrent Neural Networks', 'Generative Adversarial Networks', 'XGBoost', 'Random Forest', 'Decision Trees', 'Support Vector Machines',\n",
        "    'Linear Regression', 'Logistic Regression', 'K-Means Clustering', 'Hierarchical Clustering', 'DBSCAN', 'Association Rule Learning',\n",
        "    'Apache Hadoop', 'Apache Spark', 'MapReduce', 'Hive', 'HBase', 'Apache Kafka', 'Data Warehousing', 'ETL', 'Big Data Analytics',\n",
        "    'Cloud Computing', 'Amazon Web Services (AWS)', 'Microsoft Azure', 'Google Cloud Platform (GCP)', 'Docker', 'Kubernetes', 'Linux',\n",
        "    'Shell Scripting', 'Cybersecurity', 'Network Security', 'Penetration Testing', 'Firewalls', 'Encryption', 'Malware Analysis',\n",
        "    'Digital Forensics', 'CI/CD', 'DevOps', 'Agile Methodology', 'Scrum', 'Kanban', 'Continuous Integration', 'Continuous Deployment',\n",
        "    'Software Development', 'Web Development', 'Mobile Development', 'Backend Development', 'Frontend Development', 'Full-Stack Development',\n",
        "    'UI/UX Design', 'Responsive Design', 'Wireframing', 'Prototyping', 'User Testing', 'Adobe Creative Suite', 'Photoshop', 'Illustrator',\n",
        "    'InDesign', 'Figma', 'Sketch', 'Zeplin', 'InVision', 'Product Management', 'Market Research', 'Customer Development', 'Lean Startup',\n",
        "    'Business Development', 'Sales', 'Marketing', 'Content Marketing', 'Social Media Marketing', 'Email Marketing', 'SEO', 'SEM', 'PPC',\n",
        "    'Google Analytics', 'Facebook Ads', 'LinkedIn Ads', 'Lead Generation', 'Customer Relationship Management (CRM)', 'Salesforce',\n",
        "    'HubSpot', 'Zendesk', 'Intercom', 'Customer Support', 'Technical Support', 'Troubleshooting', 'Ticketing Systems', 'ServiceNow',\n",
        "    'ITIL', 'Quality Assurance', 'Manual Testing', 'Automated Testing', 'Selenium', 'JUnit', 'Load Testing', 'Performance Testing',\n",
        "    'Regression Testing', 'Black Box Testing', 'White Box Testing', 'API Testing', 'Mobile Testing', 'Usability Testing', 'Accessibility Testing',\n",
        "    'Cross-Browser Testing', 'Agile Testing', 'User Acceptance Testing', 'Software Documentation', 'Technical Writing', 'Copywriting',\n",
        "    'Editing', 'Proofreading', 'Content Management Systems (CMS)', 'WordPress', 'Joomla', 'Drupal', 'Magento', 'Shopify', 'E-commerce',\n",
        "    'Payment Gateways', 'Inventory Management', 'Supply Chain Management', 'Logistics', 'Procurement', 'ERP Systems', 'SAP', 'Oracle',\n",
        "    'Microsoft Dynamics', 'Tableau', 'Power BI', 'QlikView', 'Looker', 'Data Warehousing', 'ETL', 'Data Engineering', 'Data Governance',\n",
        "    'Data Quality', 'Master Data Management', 'Predictive Analytics', 'Prescriptive Analytics', 'Descriptive Analytics', 'Business Intelligence',\n",
        "    'Dashboarding', 'Reporting', 'Data Mining', 'Web Scraping', 'API Integration', 'RESTful APIs', 'GraphQL', 'SOAP', 'Microservices',\n",
        "    'Serverless Architecture', 'Lambda Functions', 'Event-Driven Architecture', 'Message Queues', 'GraphQL', 'Socket.io', 'WebSockets'\n",
        "'Ruby', 'Ruby on Rails', 'PHP', 'Symfony', 'Laravel', 'CakePHP', 'Zend Framework', 'ASP.NET', 'C#', 'VB.NET', 'ASP.NET MVC', 'Entity Framework',\n",
        "    'Spring', 'Hibernate', 'Struts', 'Kotlin', 'Swift', 'Objective-C', 'iOS Development', 'Android Development', 'Flutter', 'React Native', 'Ionic',\n",
        "    'Mobile UI/UX Design', 'Material Design', 'SwiftUI', 'RxJava', 'RxSwift', 'Django', 'Flask', 'FastAPI', 'Falcon', 'Tornado', 'WebSockets',\n",
        "    'GraphQL', 'RESTful Web Services', 'SOAP', 'Microservices Architecture', 'Serverless Computing', 'AWS Lambda', 'Google Cloud Functions',\n",
        "    'Azure Functions', 'Server Administration', 'System Administration', 'Network Administration', 'Database Administration', 'MySQL', 'PostgreSQL',\n",
        "    'SQLite', 'Microsoft SQL Server', 'Oracle Database', 'NoSQL', 'MongoDB', 'Cassandra', 'Redis', 'Elasticsearch', 'Firebase', 'Google Analytics',\n",
        "    'Google Tag Manager', 'Adobe Analytics', 'Marketing Automation', 'Customer Data Platforms', 'Segment', 'Salesforce Marketing Cloud', 'HubSpot CRM',\n",
        "    'Zapier', 'IFTTT', 'Workflow Automation', 'Robotic Process Automation (RPA)', 'UI Automation', 'Natural Language Generation (NLG)',\n",
        "    'Virtual Reality (VR)', 'Augmented Reality (AR)', 'Mixed Reality (MR)', 'Unity', 'Unreal Engine', '3D Modeling', 'Animation', 'Motion Graphics',\n",
        "    'Game Design', 'Game Development', 'Level Design', 'Unity3D', 'Unreal Engine 4', 'Blender', 'Maya', 'Adobe After Effects', 'Adobe Premiere Pro',\n",
        "    'Final Cut Pro', 'Video Editing', 'Audio Editing', 'Sound Design', 'Music Production', 'Digital Marketing', 'Content Strategy', 'Conversion Rate Optimization (CRO)',\n",
        "    'A/B Testing', 'Customer Experience (CX)', 'User Experience (UX)', 'User Interface (UI)', 'Persona Development', 'User Journey Mapping', 'Information Architecture (IA)',\n",
        "    'Wireframing', 'Prototyping', 'Usability Testing', 'Accessibility Compliance', 'Internationalization (I18n)', 'Localization (L10n)', 'Voice User Interface (VUI)',\n",
        "    'Chatbots', 'Natural Language Understanding (NLU)', 'Speech Synthesis', 'Emotion Detection', 'Sentiment Analysis', 'Image Recognition', 'Object Detection',\n",
        "    'Facial Recognition', 'Gesture Recognition', 'Document Recognition', 'Fraud Detection', 'Cyber Threat Intelligence', 'Security Information and Event Management (SIEM)',\n",
        "    'Vulnerability Assessment', 'Incident Response', 'Forensic Analysis', 'Security Operations Center (SOC)', 'Identity and Access Management (IAM)', 'Single Sign-On (SSO)',\n",
        "    'Multi-Factor Authentication (MFA)', 'Blockchain', 'Cryptocurrency', 'Decentralized Finance (DeFi)', 'Smart Contracts', 'Web3', 'Non-Fungible Tokens (NFTs)']\n",
        "\n",
        "extracted_skills = extract_skills_from_resume(text, skills_list)\n",
        "\n",
        "if extracted_skills:\n",
        "    print(\"Skills:\", extracted_skills)\n",
        "else:\n",
        "    print(\"No skills found\")"
      ]
    },
    {
      "cell_type": "markdown",
      "id": "0cfb5931",
      "metadata": {
        "id": "0cfb5931"
      },
      "source": [
        "# Extracting Education\n",
        "Education qualifications play a vital role in the recruitment process. We can match specific education keywords against the resume text to identify the candidate’s educational background. Here’s a function to extract education information from the resume text:"
      ]
    },
    {
      "cell_type": "code",
      "execution_count": 8,
      "id": "544f6bc2",
      "metadata": {
        "id": "544f6bc2",
        "outputId": "eb530e01-9766-4919-c0bd-8ba57d136874",
        "colab": {
          "base_uri": "https://localhost:8080/"
        }
      },
      "outputs": [
        {
          "output_type": "stream",
          "name": "stdout",
          "text": [
            "Education: ['Computer Science', 'Management', 'Education', 'software development', 'web development']\n"
          ]
        }
      ],
      "source": [
        "import re\n",
        "\n",
        "def extract_education_from_resume(text):\n",
        "    education = []\n",
        "\n",
        "    # List of education keywords to match against\n",
        "    education_keywords = [\n",
        "        'Computer Science', 'Information Technology', 'Software Engineering', 'Electrical Engineering', 'Mechanical Engineering', 'Civil Engineering',\n",
        "        'Chemical Engineering', 'Biomedical Engineering', 'Aerospace Engineering', 'Nuclear Engineering', 'Industrial Engineering', 'Systems Engineering',\n",
        "        'Environmental Engineering', 'Petroleum Engineering', 'Geological Engineering', 'Marine Engineering', 'Robotics Engineering', 'Biotechnology',\n",
        "        'Biochemistry', 'Microbiology', 'Genetics', 'Molecular Biology', 'Bioinformatics', 'Neuroscience', 'Biophysics', 'Biostatistics', 'Pharmacology',\n",
        "        'Physiology', 'Anatomy', 'Pathology', 'Immunology', 'Epidemiology', 'Public Health', 'Health Administration', 'Nursing', 'Medicine', 'Dentistry',\n",
        "        'Pharmacy', 'Veterinary Medicine', 'Medical Technology', 'Radiography', 'Physical Therapy', 'Occupational Therapy', 'Speech Therapy', 'Nutrition',\n",
        "        'Sports Science', 'Kinesiology', 'Exercise Physiology', 'Sports Medicine', 'Rehabilitation Science', 'Psychology', 'Counseling', 'Social Work',\n",
        "        'Sociology', 'Anthropology', 'Criminal Justice', 'Political Science', 'International Relations', 'Economics', 'Finance', 'Accounting', 'Business Administration',\n",
        "        'Management', 'Marketing', 'Entrepreneurship', 'Hospitality Management', 'Tourism Management', 'Supply Chain Management', 'Logistics Management',\n",
        "        'Operations Management', 'Human Resource Management', 'Organizational Behavior', 'Project Management', 'Quality Management', 'Risk Management',\n",
        "        'Strategic Management', 'Public Administration', 'Urban Planning', 'Architecture', 'Interior Design', 'Landscape Architecture', 'Fine Arts',\n",
        "        'Visual Arts', 'Graphic Design', 'Fashion Design', 'Industrial Design', 'Product Design', 'Animation', 'Film Studies', 'Media Studies',\n",
        "        'Communication Studies', 'Journalism', 'Broadcasting', 'Creative Writing', 'English Literature', 'Linguistics', 'Translation Studies',\n",
        "        'Foreign Languages', 'Modern Languages', 'Classical Studies', 'History', 'Archaeology', 'Philosophy', 'Theology', 'Religious Studies',\n",
        "        'Ethics', 'Education', 'Early Childhood Education', 'Elementary Education', 'Secondary Education', 'Special Education', 'Higher Education',\n",
        "        'Adult Education', 'Distance Education', 'Online Education', 'Instructional Design', 'Curriculum Development'\n",
        "        'Library Science', 'Information Science', 'Computer Engineering', 'Software Development', 'Cybersecurity', 'Information Security',\n",
        "        'Network Engineering', 'Data Science', 'Data Analytics', 'Business Analytics', 'Operations Research', 'Decision Sciences',\n",
        "        'Human-Computer Interaction', 'User Experience Design', 'User Interface Design', 'Digital Marketing', 'Content Strategy',\n",
        "        'Brand Management', 'Public Relations', 'Corporate Communications', 'Media Production', 'Digital Media', 'Web Development',\n",
        "        'Mobile App Development', 'Game Development', 'Virtual Reality', 'Augmented Reality', 'Blockchain Technology', 'Cryptocurrency',\n",
        "        'Digital Forensics', 'Forensic Science', 'Criminalistics', 'Crime Scene Investigation', 'Emergency Management', 'Fire Science',\n",
        "        'Environmental Science', 'Climate Science', 'Meteorology', 'Geography', 'Geomatics', 'Remote Sensing', 'Geoinformatics',\n",
        "        'Cartography', 'GIS (Geographic Information Systems)', 'Environmental Management', 'Sustainability Studies', 'Renewable Energy',\n",
        "        'Green Technology', 'Ecology', 'Conservation Biology', 'Wildlife Biology', 'Zoology']\n",
        "\n",
        "    for keyword in education_keywords:\n",
        "        pattern = r\"(?i)\\b{}\\b\".format(re.escape(keyword))\n",
        "        match = re.search(pattern, text)\n",
        "        if match:\n",
        "            education.append(match.group())\n",
        "\n",
        "    return education\n",
        "\n",
        "extracted_education = extract_education_from_resume(text)\n",
        "if extracted_education:\n",
        "    print(\"Education:\", extracted_education)\n",
        "else:\n",
        "    print(\"No education information found\")"
      ]
    },
    {
      "cell_type": "markdown",
      "id": "0951159a",
      "metadata": {
        "id": "0951159a"
      },
      "source": [
        "# Extracting Name Using spaCy\n",
        "Identifying the candidate’s name from the resume is essential for personalization and identification. We can use spaCy and its pattern matching capabilities to extract the candidate’s name. Let’s define a function to extract the name using spaCy:"
      ]
    },
    {
      "cell_type": "code",
      "execution_count": 9,
      "id": "c9c0bf68",
      "metadata": {
        "id": "c9c0bf68",
        "outputId": "0aa86511-1998-4db8-c6ac-71a72f6711bb",
        "colab": {
          "base_uri": "https://localhost:8080/"
        }
      },
      "outputs": [
        {
          "output_type": "stream",
          "name": "stdout",
          "text": [
            "Name: John Doe\n"
          ]
        }
      ],
      "source": [
        "def extract_name_from_resume(text):\n",
        "    name = None\n",
        "\n",
        "    # Use regex pattern to find a potential name\n",
        "    pattern = r\"(\\b[A-Z][a-z]+\\b)\\s(\\b[A-Z][a-z]+\\b)\"\n",
        "    match = re.search(pattern, text)\n",
        "    if match:\n",
        "        name = match.group()\n",
        "\n",
        "    return name\n",
        "\n",
        "name = extract_name_from_resume(text)\n",
        "\n",
        "if name:\n",
        "    print(\"Name:\", name)\n",
        "else:\n",
        "    print(\"Name not found\")"
      ]
    },
    {
      "cell_type": "code",
      "execution_count": null,
      "id": "420503a5",
      "metadata": {
        "id": "420503a5"
      },
      "outputs": [],
      "source": []
    }
  ],
  "metadata": {
    "kernelspec": {
      "display_name": "Python 3 (ipykernel)",
      "language": "python",
      "name": "python3"
    },
    "language_info": {
      "codemirror_mode": {
        "name": "ipython",
        "version": 3
      },
      "file_extension": ".py",
      "mimetype": "text/x-python",
      "name": "python",
      "nbconvert_exporter": "python",
      "pygments_lexer": "ipython3",
      "version": "3.9.12"
    },
    "colab": {
      "provenance": []
    }
  },
  "nbformat": 4,
  "nbformat_minor": 5
}